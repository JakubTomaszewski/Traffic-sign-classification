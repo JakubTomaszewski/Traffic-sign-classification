{
  "nbformat": 4,
  "nbformat_minor": 0,
  "metadata": {
    "colab": {
      "name": "TSC_concat.ipynb",
      "provenance": [],
      "collapsed_sections": [],
      "mount_file_id": "1mwX9IczQasKG_4BZ0LKreRbD6xAZ1Aqi",
      "authorship_tag": "ABX9TyNTnmFg4+fook7TTTo1Mmds",
      "include_colab_link": true
    },
    "kernelspec": {
      "name": "python3",
      "display_name": "Python 3"
    },
    "language_info": {
      "name": "python"
    },
    "accelerator": "GPU"
  },
  "cells": [
    {
      "cell_type": "markdown",
      "metadata": {
        "id": "view-in-github",
        "colab_type": "text"
      },
      "source": [
        "<a href=\"https://colab.research.google.com/github/JakubTomaszewski/Traffic-signs-classification/blob/main/TSC.ipynb\" target=\"_parent\"><img src=\"https://colab.research.google.com/assets/colab-badge.svg\" alt=\"Open In Colab\"/></a>"
      ]
    },
    {
      "cell_type": "code",
      "metadata": {
        "id": "QMTRqpwFOXpY",
        "colab": {
          "base_uri": "https://localhost:8080/"
        },
        "outputId": "ae285721-1e55-4026-d163-de05b54726ef"
      },
      "source": [
        "cd drive/MyDrive/Colab Notebooks/TSC_ADek"
      ],
      "execution_count": null,
      "outputs": [
        {
          "output_type": "stream",
          "text": [
            "/content/drive/MyDrive/Colab Notebooks/TSC_ADek\n"
          ],
          "name": "stdout"
        }
      ]
    },
    {
      "cell_type": "code",
      "metadata": {
        "colab": {
          "base_uri": "https://localhost:8080/"
        },
        "id": "-YppTslMsrGs",
        "outputId": "f421b77f-ebfd-494a-9574-e43b3514ed72"
      },
      "source": [
        "ls data/tsc_dataset/"
      ],
      "execution_count": null,
      "outputs": [
        {
          "output_type": "stream",
          "text": [
            "\u001b[0m\u001b[01;34mtest\u001b[0m/  \u001b[01;34mtrain\u001b[0m/\n"
          ],
          "name": "stdout"
        }
      ]
    },
    {
      "cell_type": "markdown",
      "metadata": {
        "id": "9-kWVzzqs1YH"
      },
      "source": [
        "## Constants"
      ]
    },
    {
      "cell_type": "code",
      "metadata": {
        "id": "3MaJDBros1Ov"
      },
      "source": [
        "IMG_WIDTH = 64\n",
        "IMG_HEIGHT = 64\n",
        "TRAIN_DATA_PATH = 'data/tsc_dataset/train/'\n",
        "TEST_DATA_PATH = 'data/tsc_dataset/test/'"
      ],
      "execution_count": null,
      "outputs": []
    },
    {
      "cell_type": "markdown",
      "metadata": {
        "id": "KXyLC1Eosy8T"
      },
      "source": [
        "## Loading libraries"
      ]
    },
    {
      "cell_type": "code",
      "metadata": {
        "id": "LbhXnTfbb0Oh"
      },
      "source": [
        "import os\n",
        "from collections import Counter\n",
        "import numpy as np\n",
        "import pandas as pd\n",
        "import glob\n",
        "import matplotlib.pyplot as plt\n",
        "from collections import Counter, defaultdict\n",
        "from tqdm import tqdm\n",
        "import cv2\n",
        "import seaborn as sns\n",
        "\n",
        "from tensorflow.keras.layers.experimental.preprocessing import RandomRotation, RandomContrast, RandomCrop, RandomZoom\n",
        "from tensorflow.keras import Sequential\n",
        "import tensorflow as tf"
      ],
      "execution_count": null,
      "outputs": []
    },
    {
      "cell_type": "markdown",
      "metadata": {
        "id": "pgcQvbXptas7"
      },
      "source": [
        "## Loading data"
      ]
    },
    {
      "cell_type": "code",
      "metadata": {
        "id": "EDBzNlX2RGat",
        "colab": {
          "base_uri": "https://localhost:8080/"
        },
        "outputId": "25bfbc04-44a7-421d-cb5f-17d74a954a61"
      },
      "source": [
        "os.listdir(TRAIN_DATA_PATH)"
      ],
      "execution_count": null,
      "outputs": [
        {
          "output_type": "execute_result",
          "data": {
            "text/plain": [
              "['30_limit', '50_limit', '70_limit', 'no_entrance', 'other', 'STOP']"
            ]
          },
          "metadata": {
            "tags": []
          },
          "execution_count": 5
        }
      ]
    },
    {
      "cell_type": "code",
      "metadata": {
        "id": "7Mp8fKbeRHwf"
      },
      "source": [
        "def load_classes(path):\n",
        "  \"\"\"Loads all dataset classes into a dict\"\"\"\n",
        "  classes_dict = defaultdict(list)\n",
        "  for class_dir in os.listdir(path):\n",
        "    print(f'Loading data from {class_dir}...')\n",
        "    for file in os.listdir(path+class_dir):\n",
        "      img = cv2.imread(path+class_dir+'/'+file)\n",
        "      if img is not None:\n",
        "        classes_dict[class_dir].append(np.array(img, dtype=np.uint8))\n",
        "      else:\n",
        "        print('No image:', path+class_dir+'/'+file)\n",
        "  return classes_dict"
      ],
      "execution_count": null,
      "outputs": []
    },
    {
      "cell_type": "code",
      "metadata": {
        "id": "wAgPGpk2RIAR",
        "colab": {
          "base_uri": "https://localhost:8080/"
        },
        "outputId": "08ac4b0b-796c-4d20-8d85-dcc1d2da55cd"
      },
      "source": [
        "print('TRAIN')\n",
        "train_data_dict = load_classes(TRAIN_DATA_PATH)\n",
        "\n",
        "print('\\nTEST')\n",
        "test_data_dict = load_classes(TEST_DATA_PATH)"
      ],
      "execution_count": null,
      "outputs": [
        {
          "output_type": "stream",
          "text": [
            "TRAIN\n",
            "Loading data from 30_limit...\n",
            "Loading data from 50_limit...\n",
            "Loading data from 70_limit...\n",
            "Loading data from no_entrance...\n",
            "Loading data from other...\n",
            "Loading data from STOP...\n",
            "No image: data/tsc_dataset/train/STOP/stop_4.jpg\n",
            "\n",
            "TEST\n",
            "Loading data from 30_limit...\n",
            "Loading data from 50_limit...\n",
            "Loading data from 70_limit...\n",
            "Loading data from no_entrance...\n",
            "Loading data from other...\n",
            "Loading data from STOP...\n"
          ],
          "name": "stdout"
        }
      ]
    },
    {
      "cell_type": "code",
      "metadata": {
        "id": "kwMcuF-PZZO1",
        "colab": {
          "base_uri": "https://localhost:8080/"
        },
        "outputId": "e4af2bcb-83f1-4864-f528-50585b0ef145"
      },
      "source": [
        "print('Train set')\n",
        "for label, samples in train_data_dict.items():\n",
        "  print(f'{label}: {len(samples)}')\n",
        "\n",
        "print('\\nTest set')\n",
        "for label, samples in test_data_dict.items():\n",
        "  print(f'{label}: {len(samples)}')"
      ],
      "execution_count": null,
      "outputs": [
        {
          "output_type": "stream",
          "text": [
            "Train set\n",
            "30_limit: 295\n",
            "50_limit: 223\n",
            "70_limit: 425\n",
            "no_entrance: 255\n",
            "other: 373\n",
            "STOP: 346\n",
            "\n",
            "Test set\n",
            "30_limit: 109\n",
            "50_limit: 94\n",
            "70_limit: 225\n",
            "no_entrance: 82\n",
            "other: 229\n",
            "STOP: 71\n"
          ],
          "name": "stdout"
        }
      ]
    },
    {
      "cell_type": "markdown",
      "metadata": {
        "id": "DqKUDysRsfjJ"
      },
      "source": [
        "## Resize images"
      ]
    },
    {
      "cell_type": "markdown",
      "metadata": {
        "id": "9LnxU_FKskdq"
      },
      "source": [
        "- ###  Checking the distribution of image sizes"
      ]
    },
    {
      "cell_type": "code",
      "metadata": {
        "id": "ADQInsGZsv0Z"
      },
      "source": [
        "image_sizes = []\n",
        "\n",
        "for samples in train_data_dict.values():\n",
        "  for image in samples:\n",
        "    image_sizes.append(image.shape)"
      ],
      "execution_count": null,
      "outputs": []
    },
    {
      "cell_type": "code",
      "metadata": {
        "id": "xa4agI5ouXqh",
        "colab": {
          "base_uri": "https://localhost:8080/",
          "height": 316
        },
        "outputId": "f8ade36b-3a9c-462a-c580-e75200bab105"
      },
      "source": [
        "plt.hist([size[0] for size in image_sizes if size[0] < 100])"
      ],
      "execution_count": null,
      "outputs": [
        {
          "output_type": "execute_result",
          "data": {
            "text/plain": [
              "(array([ 10.,  50., 150., 146., 170., 162., 147., 110., 110.,  91.]),\n",
              " array([17. , 25.2, 33.4, 41.6, 49.8, 58. , 66.2, 74.4, 82.6, 90.8, 99. ]),\n",
              " <a list of 10 Patch objects>)"
            ]
          },
          "metadata": {
            "tags": []
          },
          "execution_count": 10
        },
        {
          "output_type": "display_data",
          "data": {
            "image/png": "[encoded data removed]",
            "text/plain": [
              "<Figure size 432x288 with 1 Axes>"
            ]
          },
          "metadata": {
            "tags": [],
            "needs_background": "light"
          }
        }
      ]
    },
    {
      "cell_type": "markdown",
      "metadata": {
        "id": "S7u82yvRVjOD"
      },
      "source": [
        "- ### Resizing data and create corresponding labels"
      ]
    },
    {
      "cell_type": "code",
      "metadata": {
        "id": "ULdaIekHV5hX"
      },
      "source": [
        "def resize_image(img):\n",
        "  return cv2.resize(img, (IMG_WIDTH, IMG_HEIGHT))"
      ],
      "execution_count": null,
      "outputs": []
    },
    {
      "cell_type": "code",
      "metadata": {
        "id": "HResvV5pTbRE"
      },
      "source": [
        "resized_train_data = []\n",
        "resized_test_data = []\n",
        "\n",
        "for label, samples in train_data_dict.items():\n",
        "  resized_train_data.append(list(map(resize_image, samples)))\n",
        "\n",
        "for label, samples in test_data_dict.items():\n",
        "  resized_test_data.append(list(map(resize_image, samples)))"
      ],
      "execution_count": null,
      "outputs": []
    },
    {
      "cell_type": "code",
      "metadata": {
        "id": "2NLuBN9gox84",
        "colab": {
          "base_uri": "https://localhost:8080/"
        },
        "outputId": "0eaa21f0-1aea-47a3-97a8-2bf86a17e340"
      },
      "source": [
        "train_data = np.concatenate(resized_train_data)\n",
        "test_data = np.concatenate(resized_test_data)\n",
        "\n",
        "train_data.shape, test_data.shape"
      ],
      "execution_count": null,
      "outputs": [
        {
          "output_type": "execute_result",
          "data": {
            "text/plain": [
              "((1917, 64, 64, 3), (810, 64, 64, 3))"
            ]
          },
          "metadata": {
            "tags": []
          },
          "execution_count": 13
        }
      ]
    },
    {
      "cell_type": "markdown",
      "metadata": {
        "id": "ZssUPkqmisYP"
      },
      "source": [
        "## Creating labels"
      ]
    },
    {
      "cell_type": "markdown",
      "metadata": {
        "id": "az97kKfredQX"
      },
      "source": [
        "Classes and their labels:\n",
        "\n",
        "- 30_limit: 0\n",
        "\n",
        "- 50_limit: 1\n",
        "\n",
        "- 70_limit: 2\n",
        "\n",
        "- no_entrance: 3\n",
        "\n",
        "- STOP: 4\n",
        "\n",
        "- other: 5\n"
      ]
    },
    {
      "cell_type": "code",
      "metadata": {
        "id": "mfJzM8kGbrzJ"
      },
      "source": [
        "LABELS_DICT = {\n",
        "    '30_limit': 0,\n",
        "    '50_limit': 1,\n",
        "    '70_limit': 2,\n",
        "    'no_entrance': 3,\n",
        "    'STOP': 4,\n",
        "    'other': 5\n",
        "}"
      ],
      "execution_count": null,
      "outputs": []
    },
    {
      "cell_type": "code",
      "metadata": {
        "colab": {
          "base_uri": "https://localhost:8080/"
        },
        "id": "NEqiE7cF8Vj8",
        "outputId": "dc28ad8a-6e6b-4481-afd1-6ac1b5e031b6"
      },
      "source": [
        "NUM_CLASSES = len(LABELS_DICT)\n",
        "NUM_CLASSES"
      ],
      "execution_count": null,
      "outputs": [
        {
          "output_type": "execute_result",
          "data": {
            "text/plain": [
              "6"
            ]
          },
          "metadata": {
            "tags": []
          },
          "execution_count": 15
        }
      ]
    },
    {
      "cell_type": "code",
      "metadata": {
        "id": "H8vIMzWYtZFY",
        "colab": {
          "base_uri": "https://localhost:8080/"
        },
        "outputId": "4fffb3d0-8117-4ef6-c3f4-953cc96fd9c6"
      },
      "source": [
        "train_labels = np.concatenate([np.full(len(samples), LABELS_DICT[label], dtype=np.uint8) for label, samples in train_data_dict.items()])\n",
        "test_labels = np.concatenate([np.full(len(samples), LABELS_DICT[label], dtype=np.uint8) for label, samples in test_data_dict.items()])\n",
        "\n",
        "train_labels.shape, test_labels.shape"
      ],
      "execution_count": null,
      "outputs": [
        {
          "output_type": "execute_result",
          "data": {
            "text/plain": [
              "((1917,), (810,))"
            ]
          },
          "metadata": {
            "tags": []
          },
          "execution_count": 16
        }
      ]
    },
    {
      "cell_type": "markdown",
      "metadata": {
        "id": "j12-12fFudGb"
      },
      "source": [
        "## EDA"
      ]
    },
    {
      "cell_type": "markdown",
      "metadata": {
        "id": "ZhNznnfZus0m"
      },
      "source": [
        "- ### Display some images from each class"
      ]
    },
    {
      "cell_type": "code",
      "metadata": {
        "id": "zMSUY3ggulS5"
      },
      "source": [
        "def display_img_byclass(train_data, train_labels):\n",
        "  fig, ax = plt.subplots(1, len(np.unique(train_labels)), figsize=(12,7))\n",
        "\n",
        "  for i, class_name in enumerate(np.unique(train_labels)):\n",
        "    for img, label in zip(train_data, train_labels):\n",
        "      if label == class_name:\n",
        "        ax[i].imshow(cv2.cvtColor(img, cv2.COLOR_BGR2RGB), cmap='gray')\n",
        "        break"
      ],
      "execution_count": null,
      "outputs": []
    },
    {
      "cell_type": "code",
      "metadata": {
        "id": "51PJsrrCkbjZ",
        "colab": {
          "base_uri": "https://localhost:8080/",
          "height": 147
        },
        "outputId": "5b2d6b11-9059-4038-cbe3-c4e695f16c2c"
      },
      "source": [
        "display_img_byclass(train_data, train_labels)"
      ],
      "execution_count": null,
      "outputs": [
        {
          "output_type": "display_data",
          "data": {
            "image/png": "[encoded data removed]",
            "text/plain": [
              "<Figure size 864x504 with 6 Axes>"
            ]
          },
          "metadata": {
            "tags": [],
            "needs_background": "light"
          }
        }
      ]
    },
    {
      "cell_type": "markdown",
      "metadata": {
        "id": "Qq7h8y6QYqX7"
      },
      "source": [
        "## Concatenate data"
      ]
    },
    {
      "cell_type": "code",
      "metadata": {
        "colab": {
          "base_uri": "https://localhost:8080/"
        },
        "id": "iixBl6RKbiFz",
        "outputId": "828f00c6-fd43-4753-cca1-3f56e0a3c958"
      },
      "source": [
        "train_data.shape, train_labels.shape"
      ],
      "execution_count": null,
      "outputs": [
        {
          "output_type": "execute_result",
          "data": {
            "text/plain": [
              "((1917, 64, 64, 3), (1917,))"
            ]
          },
          "metadata": {
            "tags": []
          },
          "execution_count": 19
        }
      ]
    },
    {
      "cell_type": "code",
      "metadata": {
        "colab": {
          "base_uri": "https://localhost:8080/"
        },
        "id": "dWwTAbX6blBD",
        "outputId": "4ab52663-f69b-466a-b68b-f2a3283de3a8"
      },
      "source": [
        "test_data.shape, test_labels.shape"
      ],
      "execution_count": null,
      "outputs": [
        {
          "output_type": "execute_result",
          "data": {
            "text/plain": [
              "((810, 64, 64, 3), (810,))"
            ]
          },
          "metadata": {
            "tags": []
          },
          "execution_count": 20
        }
      ]
    },
    {
      "cell_type": "code",
      "metadata": {
        "id": "UnO3NyLuYzH5"
      },
      "source": [
        "train_data_full =  np.concatenate([train_data, test_data])\n",
        "train_labels_full =  np.concatenate([train_labels, test_labels])"
      ],
      "execution_count": null,
      "outputs": []
    },
    {
      "cell_type": "code",
      "metadata": {
        "colab": {
          "base_uri": "https://localhost:8080/"
        },
        "id": "uEqgCzWYc82C",
        "outputId": "dfe8e858-a5cb-4616-e604-a9a042774c25"
      },
      "source": [
        "train_data_full.shape, train_labels_full.shape"
      ],
      "execution_count": null,
      "outputs": [
        {
          "output_type": "execute_result",
          "data": {
            "text/plain": [
              "((2727, 64, 64, 3), (2727,))"
            ]
          },
          "metadata": {
            "tags": []
          },
          "execution_count": 22
        }
      ]
    },
    {
      "cell_type": "markdown",
      "metadata": {
        "id": "EVqcIQQHuegq"
      },
      "source": [
        "## Data augmentation"
      ]
    },
    {
      "cell_type": "markdown",
      "metadata": {
        "id": "-R8cX2F9nle7"
      },
      "source": [
        "- ### Defining data augmentation object"
      ]
    },
    {
      "cell_type": "code",
      "metadata": {
        "id": "MvkczSvTh09J"
      },
      "source": [
        "class DataAugmentor:\n",
        "  def __init__(self, image_width, image_height):\n",
        "    self._image_width = image_width\n",
        "    self._image_height = image_height\n",
        "    self._augmentor_pipeline = Sequential()\n",
        "\n",
        "  def reset_augmentor():\n",
        "    self._augmentor_pipeline = Sequential()\n",
        "\n",
        "  def add_rotate(self, max_angle_percentage=0.075):\n",
        "    self._augmentor_pipeline.add(RandomRotation(max_angle_percentage))\n",
        "\n",
        "  def add_contrast(self, max_contrast_percentage=0.4):\n",
        "    self._augmentor_pipeline.add(RandomContrast(max_contrast_percentage))\n",
        "\n",
        "  def add_zoom(self, max_zoom_percentage=0.2):\n",
        "    self._augmentor_pipeline.add(RandomZoom(max_zoom_percentage))\n",
        "\n",
        "  def translate_image(self, image, max_translate_percentage=0.12):\n",
        "    return tf.keras.preprocessing.image.random_shift(image, max_translate_percentage, max_translate_percentage)\n",
        "\n",
        "  def transform_image(self, image):\n",
        "    translated_img = self.translate_image(image)\n",
        "\n",
        "    if self._augmentor_pipeline is not None:\n",
        "      expanded_img = np.array(tf.expand_dims(translated_img, 0))\n",
        "      augmented_img = (self._augmentor_pipeline(expanded_img)).numpy()\n",
        "      translated_img = augmented_img.reshape((self._image_width, self._image_height, 3))\n",
        "    return translated_img\n",
        "\n",
        "  def transform_dataset(self, data):\n",
        "    length = len(data)\n",
        "    translated_data = np.array(list(map(self.translate_image, data)))\n",
        "\n",
        "    if self._augmentor_pipeline is not None:\n",
        "      expanded_data = np.array([tf.expand_dims(img, 0) for img in translated_data])\n",
        "      augmented_data = np.array([(self._augmentor_pipeline(img)).numpy() for img in expanded_data])\n",
        "      translated_data = augmented_data.reshape((length, self._image_width, self._image_height, 3))\n",
        "    return translated_data\n",
        "\n",
        "  def get_info(self):\n",
        "    if self._augmentor_pipeline is not None:\n",
        "      print(self._augmentor_pipeline)"
      ],
      "execution_count": null,
      "outputs": []
    },
    {
      "cell_type": "code",
      "metadata": {
        "id": "8NUIwFwFosrU"
      },
      "source": [
        "augmentor = DataAugmentor(IMG_WIDTH, IMG_HEIGHT)\n",
        "augmentor.add_rotate()\n",
        "augmentor.add_contrast()\n",
        "augmentor.add_zoom()"
      ],
      "execution_count": null,
      "outputs": []
    },
    {
      "cell_type": "code",
      "metadata": {
        "id": "exPp4Osu5TbJ"
      },
      "source": [
        "x = augmentor.transform_image(train_data_full[1000])"
      ],
      "execution_count": null,
      "outputs": []
    },
    {
      "cell_type": "code",
      "metadata": {
        "id": "_iiC0YnNVIl0",
        "colab": {
          "base_uri": "https://localhost:8080/",
          "height": 285
        },
        "outputId": "7b1cbc14-302d-44a8-db4f-373f17050ec4"
      },
      "source": [
        "plt.imshow(train_data_full[1000], cmap='gray')"
      ],
      "execution_count": null,
      "outputs": [
        {
          "output_type": "execute_result",
          "data": {
            "text/plain": [
              "<matplotlib.image.AxesImage at 0x7fe7200ae790>"
            ]
          },
          "metadata": {
            "tags": []
          },
          "execution_count": 26
        },
        {
          "output_type": "display_data",
          "data": {
            "image/png": "[encoded data removed]",
            "text/plain": [
              "<Figure size 432x288 with 1 Axes>"
            ]
          },
          "metadata": {
            "tags": [],
            "needs_background": "light"
          }
        }
      ]
    },
    {
      "cell_type": "code",
      "metadata": {
        "id": "bf4lUp0eARkp",
        "colab": {
          "base_uri": "https://localhost:8080/",
          "height": 285
        },
        "outputId": "4150b821-216f-4604-d430-70f8473c3942"
      },
      "source": [
        "plt.imshow(x, cmap='gray')"
      ],
      "execution_count": null,
      "outputs": [
        {
          "output_type": "execute_result",
          "data": {
            "text/plain": [
              "<matplotlib.image.AxesImage at 0x7fe72003ee90>"
            ]
          },
          "metadata": {
            "tags": []
          },
          "execution_count": 27
        },
        {
          "output_type": "display_data",
          "data": {
            "image/png": "[encoded data removed]",
            "text/plain": [
              "<Figure size 432x288 with 1 Axes>"
            ]
          },
          "metadata": {
            "tags": [],
            "needs_background": "light"
          }
        }
      ]
    },
    {
      "cell_type": "code",
      "metadata": {
        "id": "D-wihA5_4dTf",
        "colab": {
          "base_uri": "https://localhost:8080/",
          "height": 302
        },
        "outputId": "710e4cca-44b9-495d-a997-8306f4e28c23"
      },
      "source": [
        "plt.imshow(x - np.mean(x), cmap='gray')"
      ],
      "execution_count": null,
      "outputs": [
        {
          "output_type": "stream",
          "text": [
            "Clipping input data to the valid range for imshow with RGB data ([0..1] for floats or [0..255] for integers).\n"
          ],
          "name": "stderr"
        },
        {
          "output_type": "execute_result",
          "data": {
            "text/plain": [
              "<matplotlib.image.AxesImage at 0x7fe6e3123850>"
            ]
          },
          "metadata": {
            "tags": []
          },
          "execution_count": 28
        },
        {
          "output_type": "display_data",
          "data": {
            "image/png": "[encoded data removed]",
            "text/plain": [
              "<Figure size 432x288 with 1 Axes>"
            ]
          },
          "metadata": {
            "tags": [],
            "needs_background": "light"
          }
        }
      ]
    },
    {
      "cell_type": "markdown",
      "metadata": {
        "id": "wqUquM2Tuokz"
      },
      "source": [
        "- ### How many samples to create for each class"
      ]
    },
    {
      "cell_type": "markdown",
      "metadata": {
        "id": "xORFuPp_2HIt"
      },
      "source": [
        "Current number of images per class"
      ]
    },
    {
      "cell_type": "markdown",
      "metadata": {
        "id": "-_vPpX_47UvE"
      },
      "source": [
        "- Train"
      ]
    },
    {
      "cell_type": "code",
      "metadata": {
        "id": "wQCSV_xzvA3t",
        "colab": {
          "base_uri": "https://localhost:8080/"
        },
        "outputId": "fb388344-f272-4a34-9d73-477f66440ad0"
      },
      "source": [
        "train_samples_class = Counter(train_labels_full)\n",
        "train_samples_class"
      ],
      "execution_count": null,
      "outputs": [
        {
          "output_type": "execute_result",
          "data": {
            "text/plain": [
              "Counter({0: 404, 1: 317, 2: 650, 3: 337, 4: 417, 5: 602})"
            ]
          },
          "metadata": {
            "tags": []
          },
          "execution_count": 29
        }
      ]
    },
    {
      "cell_type": "code",
      "metadata": {
        "id": "tszJG3sOuDpq"
      },
      "source": [
        "TRAIN_IMAGES_PER_CLASS = 2000"
      ],
      "execution_count": null,
      "outputs": []
    },
    {
      "cell_type": "markdown",
      "metadata": {
        "id": "zbsSN-SA3AVF"
      },
      "source": [
        "Creating dict containing number of samples to create for each class"
      ]
    },
    {
      "cell_type": "markdown",
      "metadata": {
        "id": "_q0aH-6I4-1b"
      },
      "source": [
        "- Train"
      ]
    },
    {
      "cell_type": "code",
      "metadata": {
        "id": "Kjm5eNbc5L1W",
        "colab": {
          "base_uri": "https://localhost:8080/"
        },
        "outputId": "d3b47acb-3176-42ac-f6bc-4908ef3306ff"
      },
      "source": [
        "train_samples_to_create = dict()\n",
        "\n",
        "for c, num_samples in train_samples_class.items():\n",
        "  print(f'Creating {TRAIN_IMAGES_PER_CLASS - num_samples} for class {c}')\n",
        "  train_samples_to_create[c] = max(TRAIN_IMAGES_PER_CLASS - num_samples, 0)\n",
        "\n",
        "train_samples_to_create"
      ],
      "execution_count": null,
      "outputs": [
        {
          "output_type": "stream",
          "text": [
            "Creating 1596 for class 0\n",
            "Creating 1683 for class 1\n",
            "Creating 1350 for class 2\n",
            "Creating 1663 for class 3\n",
            "Creating 1398 for class 5\n",
            "Creating 1583 for class 4\n"
          ],
          "name": "stdout"
        },
        {
          "output_type": "execute_result",
          "data": {
            "text/plain": [
              "{0: 1596, 1: 1683, 2: 1350, 3: 1663, 4: 1583, 5: 1398}"
            ]
          },
          "metadata": {
            "tags": []
          },
          "execution_count": 31
        }
      ]
    },
    {
      "cell_type": "markdown",
      "metadata": {
        "id": "heYDwXz9-u7U"
      },
      "source": [
        "### Creating data"
      ]
    },
    {
      "cell_type": "code",
      "metadata": {
        "id": "EtnFijI9vAvl"
      },
      "source": [
        "def augment_data(data, labels, num_samples_dict):\n",
        "  \"\"\"Applies data_augment function to the dataset, creates new samples\"\"\"\n",
        "\n",
        "  new_data_array = []\n",
        "  new_labels_array = []\n",
        "\n",
        "  for c, num_samples in num_samples_dict.items():\n",
        "    print(f'\\nGenerating samples for class {c}')\n",
        "    # Setting only data with current labels\n",
        "    current_class_images = data[labels == c]\n",
        "    while num_samples > 0:\n",
        "      if num_samples % 100 == 0:\n",
        "        print(c, num_samples)\n",
        "      # Choosing a random image with a specific class\n",
        "      random_image = current_class_images[np.random.randint(0, len(current_class_images - 1))]\n",
        "\n",
        "      aug_image = augmentor.transform_image(random_image)\n",
        "      \n",
        "      new_data_array.append(aug_image)\n",
        "      new_labels_array.append(c)\n",
        "      num_samples -= 1\n",
        "    \n",
        "  np_new_data_array = np.array(new_data_array)\n",
        "  np_new_labels_array = np.array(new_labels_array)\n",
        "  \n",
        "  print(f'\\nCreated {np_new_data_array.shape[0]} training samples with {np_new_labels_array.shape[0]} labels')\n",
        "\n",
        "  data_aug = np.concatenate((data, np_new_data_array))\n",
        "  labels_aug = np.concatenate((labels, np_new_labels_array))\n",
        "\n",
        "  print(f'After concatenation with the original dataset: {data_aug.shape[0]} training samples with {labels_aug.shape[0]} labels')\n",
        " \n",
        "  return data_aug, labels_aug"
      ],
      "execution_count": null,
      "outputs": []
    },
    {
      "cell_type": "markdown",
      "metadata": {
        "id": "_oPs4GMI-0NT"
      },
      "source": [
        "- Train"
      ]
    },
    {
      "cell_type": "code",
      "metadata": {
        "id": "_GCKSzk0-4Jy",
        "colab": {
          "base_uri": "https://localhost:8080/"
        },
        "outputId": "e02744d3-4520-4485-bfea-a54ae84ffb20"
      },
      "source": [
        "train_data_aug, train_labels_aug = augment_data(train_data_full, train_labels_full, train_samples_to_create)"
      ],
      "execution_count": null,
      "outputs": [
        {
          "output_type": "stream",
          "text": [
            "\n",
            "Generating samples for class 0\n",
            "0 1500\n",
            "0 1400\n",
            "0 1300\n",
            "0 1200\n",
            "0 1100\n",
            "0 1000\n",
            "0 900\n",
            "0 800\n",
            "0 700\n",
            "0 600\n",
            "0 500\n",
            "0 400\n",
            "0 300\n",
            "0 200\n",
            "0 100\n",
            "\n",
            "Generating samples for class 1\n",
            "1 1600\n",
            "1 1500\n",
            "1 1400\n",
            "1 1300\n",
            "1 1200\n",
            "1 1100\n",
            "1 1000\n",
            "1 900\n",
            "1 800\n",
            "1 700\n",
            "1 600\n",
            "1 500\n",
            "1 400\n",
            "1 300\n",
            "1 200\n",
            "1 100\n",
            "\n",
            "Generating samples for class 2\n",
            "2 1300\n",
            "2 1200\n",
            "2 1100\n",
            "2 1000\n",
            "2 900\n",
            "2 800\n",
            "2 700\n",
            "2 600\n",
            "2 500\n",
            "2 400\n",
            "2 300\n",
            "2 200\n",
            "2 100\n",
            "\n",
            "Generating samples for class 3\n",
            "3 1600\n",
            "3 1500\n",
            "3 1400\n",
            "3 1300\n",
            "3 1200\n",
            "3 1100\n",
            "3 1000\n",
            "3 900\n",
            "3 800\n",
            "3 700\n",
            "3 600\n",
            "3 500\n",
            "3 400\n",
            "3 300\n",
            "3 200\n",
            "3 100\n",
            "\n",
            "Generating samples for class 5\n",
            "5 1300\n",
            "5 1200\n",
            "5 1100\n",
            "5 1000\n",
            "5 900\n",
            "5 800\n",
            "5 700\n",
            "5 600\n",
            "5 500\n",
            "5 400\n",
            "5 300\n",
            "5 200\n",
            "5 100\n",
            "\n",
            "Generating samples for class 4\n",
            "4 1500\n",
            "4 1400\n",
            "4 1300\n",
            "4 1200\n",
            "4 1100\n",
            "4 1000\n",
            "4 900\n",
            "4 800\n",
            "4 700\n",
            "4 600\n",
            "4 500\n",
            "4 400\n",
            "4 300\n",
            "4 200\n",
            "4 100\n",
            "\n",
            "Created 9273 training samples with 9273 labels\n",
            "After concatenation with the original dataset: 12000 training samples with 12000 labels\n"
          ],
          "name": "stdout"
        }
      ]
    },
    {
      "cell_type": "code",
      "metadata": {
        "id": "SU4lFJyIunVr",
        "colab": {
          "base_uri": "https://localhost:8080/"
        },
        "outputId": "eeb8c7a7-d2da-401a-ac56-dddf877c28d1"
      },
      "source": [
        "train_data_aug.shape, train_labels_aug.shape"
      ],
      "execution_count": null,
      "outputs": [
        {
          "output_type": "execute_result",
          "data": {
            "text/plain": [
              "((12000, 64, 64, 3), (12000,))"
            ]
          },
          "metadata": {
            "tags": []
          },
          "execution_count": 34
        }
      ]
    },
    {
      "cell_type": "markdown",
      "metadata": {
        "id": "DTw3qdPiA36J"
      },
      "source": [
        "- ### Saving generated datasets"
      ]
    },
    {
      "cell_type": "code",
      "metadata": {
        "id": "oq5Rnp5Uo5kJ"
      },
      "source": [
        "np.save('data/train_data_aug_full.npy', train_data_aug)\n",
        "np.save('data/train_labels_aug_full.npy', train_labels_aug)"
      ],
      "execution_count": null,
      "outputs": []
    },
    {
      "cell_type": "markdown",
      "metadata": {
        "id": "GDnLorPxA6ud"
      },
      "source": [
        "- ### Loading augmented datasets (if not loaded yet)"
      ]
    },
    {
      "cell_type": "code",
      "metadata": {
        "id": "grfZwTmNpMV3"
      },
      "source": [
        "train_data_aug = np.load('data/train_data_aug_full.npy')\n",
        "train_labels_aug = np.load('data/train_labels_aug_full.npy')"
      ],
      "execution_count": null,
      "outputs": []
    },
    {
      "cell_type": "markdown",
      "metadata": {
        "id": "vBXR42VsBGkI"
      },
      "source": [
        "## Preprocessing"
      ]
    },
    {
      "cell_type": "code",
      "metadata": {
        "id": "-clBsX8MBJ9R"
      },
      "source": [
        "class ImgPreprocessor:\n",
        "  def __init__(self):\n",
        "    pass\n",
        "\n",
        "  def resize_image(self, image, width, height):\n",
        "    \"\"\"Resizes an image to a given shape\n",
        "\n",
        "    Parameters\n",
        "    ----------\n",
        "    image -- image to be resized\n",
        "\n",
        "    width -- new image width\n",
        "\n",
        "    height -- new image height\n",
        "\n",
        "    Returns\n",
        "    -------\n",
        "    resized image\n",
        "    \"\"\"\n",
        "    \n",
        "    return cv2.resize(image, (width, height))\n",
        "\n",
        "  def convert_to_grayscale(self, image):\n",
        "    \"\"\"Converts an image to grayscale\n",
        "    \n",
        "    Parameters\n",
        "    ----------\n",
        "    image -- a numpy array represeting an image wth 3 color channels\n",
        "\n",
        "    Returns\n",
        "    -------\n",
        "    image in grayscale without a color channel;\n",
        "    \"\"\"\n",
        "    \n",
        "    return cv2.cvtColor(image, cv2.COLOR_BGR2GRAY)\n",
        "\n",
        "\n",
        "  def normalize_image(self, image):\n",
        "    \"\"\"Normalizes an image by substracting the mean from each channel\n",
        "    \n",
        "    Parameters\n",
        "    ----------\n",
        "    image -- a numpy array representing an image\n",
        "\n",
        "    Returns\n",
        "    -------\n",
        "    Normalized image  \n",
        "    \"\"\"\n",
        "    \n",
        "    return image - int(np.mean(image))\n",
        "\n",
        "\n",
        "  def histogram_equalization(self, image):\n",
        "    \"\"\"\n",
        "    Parameters\n",
        "    ----------\n",
        "    image -- a numpy array representing an image in grayscale (without a color channel)\n",
        "\n",
        "    Returns\n",
        "    -------\n",
        "    image of equalized grayscale\n",
        "    \"\"\"\n",
        "    \n",
        "    return cv2.equalizeHist(image)\n",
        "\n",
        "\n",
        "  def preprocess_image(self, image, width, height):\n",
        "    \"\"\"Applies grayscale transformation, equalization and normalization to an image\n",
        "\n",
        "    Parameters\n",
        "    ----------\n",
        "    image -- a numpy array representing an image\n",
        "\n",
        "    Returns\n",
        "    -------\n",
        "    preprocessed image\n",
        "    \"\"\"\n",
        "\n",
        "    resized = self.resize_image(image, width, height)\n",
        "    gray = self.convert_to_grayscale(resized)\n",
        "    # equalized = histogram_equalization(gray)\n",
        "    normalized = self.normalize_image(gray)\n",
        "    \n",
        "    return normalized\n",
        "\n",
        "  def transform_data(self, data, width, height):\n",
        "    \"\"\"Applies preprocess_image to the whole dataset\"\"\"\n",
        "    return np.array([self.preprocess_image(img, width, height) for img in data])"
      ],
      "execution_count": null,
      "outputs": []
    },
    {
      "cell_type": "code",
      "metadata": {
        "id": "HE9sGrf5kZOR"
      },
      "source": [
        "img_preprocessor = ImgPreprocessor()"
      ],
      "execution_count": null,
      "outputs": []
    },
    {
      "cell_type": "markdown",
      "metadata": {
        "id": "T9w733oYoCe1"
      },
      "source": [
        "- ### Train"
      ]
    },
    {
      "cell_type": "code",
      "metadata": {
        "id": "QZvx0DzfkqKT",
        "colab": {
          "base_uri": "https://localhost:8080/"
        },
        "outputId": "c2d0621b-521c-4e2f-db9a-f4d0ea78dea8"
      },
      "source": [
        "preprocessed_train = img_preprocessor.transform_data(train_data_aug, IMG_WIDTH, IMG_HEIGHT)\n",
        "preprocessed_train.shape, train_labels_aug.shape"
      ],
      "execution_count": null,
      "outputs": [
        {
          "output_type": "execute_result",
          "data": {
            "text/plain": [
              "((12000, 64, 64), (12000,))"
            ]
          },
          "metadata": {
            "tags": []
          },
          "execution_count": 39
        }
      ]
    },
    {
      "cell_type": "code",
      "metadata": {
        "id": "ZxHt4hf6nE7i",
        "colab": {
          "base_uri": "https://localhost:8080/",
          "height": 285
        },
        "outputId": "3b526c90-f025-40b6-a685-8f33eaa36c7f"
      },
      "source": [
        "plt.imshow(preprocessed_train[10], cmap='gray')"
      ],
      "execution_count": null,
      "outputs": [
        {
          "output_type": "execute_result",
          "data": {
            "text/plain": [
              "<matplotlib.image.AxesImage at 0x7fe6e29c0ed0>"
            ]
          },
          "metadata": {
            "tags": []
          },
          "execution_count": 40
        },
        {
          "output_type": "display_data",
          "data": {
            "image/png": "[encoded data removed]",
            "text/plain": [
              "<Figure size 432x288 with 1 Axes>"
            ]
          },
          "metadata": {
            "tags": [],
            "needs_background": "light"
          }
        }
      ]
    },
    {
      "cell_type": "code",
      "metadata": {
        "id": "03dcr9iGnK3D",
        "colab": {
          "base_uri": "https://localhost:8080/",
          "height": 285
        },
        "outputId": "b0bda8ca-7657-4d11-d717-f2be86c42b5d"
      },
      "source": [
        "plt.imshow(preprocessed_train[1600], cmap='gray')"
      ],
      "execution_count": null,
      "outputs": [
        {
          "output_type": "execute_result",
          "data": {
            "text/plain": [
              "<matplotlib.image.AxesImage at 0x7fe6e2904d10>"
            ]
          },
          "metadata": {
            "tags": []
          },
          "execution_count": 41
        },
        {
          "output_type": "display_data",
          "data": {
            "image/png": "[encoded data removed]",
            "text/plain": [
              "<Figure size 432x288 with 1 Axes>"
            ]
          },
          "metadata": {
            "tags": [],
            "needs_background": "light"
          }
        }
      ]
    },
    {
      "cell_type": "markdown",
      "metadata": {
        "id": "aEEj-eNHdSbx"
      },
      "source": [
        "## Importing libraries for training"
      ]
    },
    {
      "cell_type": "code",
      "metadata": {
        "id": "Ttivm4EedWIK"
      },
      "source": [
        "from datetime import datetime\n",
        "\n",
        "import keras\n",
        "from keras import Model\n",
        "from keras.regularizers import l1, l2, l1_l2\n",
        "from keras.models import Sequential\n",
        "from keras.layers import Input, Dense, Conv2D, Flatten, MaxPooling2D, AveragePooling2D, Dropout, BatchNormalization, Activation, GlobalMaxPooling2D, Dense\n",
        "from keras.optimizers import Adam, Adamax, SGD, RMSprop\n",
        "from keras.wrappers.scikit_learn import KerasClassifier\n",
        "from keras.callbacks import ModelCheckpoint, EarlyStopping\n",
        "\n",
        "from keras.utils.np_utils import to_categorical\n",
        "\n",
        "from sklearn.model_selection import train_test_split, cross_val_score, GridSearchCV, RandomizedSearchCV\n",
        "from sklearn.metrics import confusion_matrix, plot_confusion_matrix\n",
        "from keras.wrappers.scikit_learn import KerasClassifier\n",
        "%load_ext tensorboard"
      ],
      "execution_count": null,
      "outputs": []
    },
    {
      "cell_type": "markdown",
      "metadata": {
        "id": "MbuE4_iqdO3m"
      },
      "source": [
        "## Preparing data for training"
      ]
    },
    {
      "cell_type": "markdown",
      "metadata": {
        "id": "iKV31Uu-EPMV"
      },
      "source": [
        "- ### Shuffle the data"
      ]
    },
    {
      "cell_type": "code",
      "metadata": {
        "id": "UsHnKQPJERMu"
      },
      "source": [
        "def shuffle_both_arrays(arr_one, arr_two):\n",
        "  assert len(arr_one) == len(arr_two)\n",
        "  p = np.random.permutation(len(arr_one))\n",
        "  return arr_one[p], arr_two[p]"
      ],
      "execution_count": null,
      "outputs": []
    },
    {
      "cell_type": "code",
      "metadata": {
        "id": "DUc4_8HoJ18O"
      },
      "source": [
        "preprocessed_train, train_labels_aug = shuffle_both_arrays(preprocessed_train, train_labels_aug)"
      ],
      "execution_count": null,
      "outputs": []
    },
    {
      "cell_type": "markdown",
      "metadata": {
        "id": "QhzvFcO4pakI"
      },
      "source": [
        "- ### Add 1 dimension to the data"
      ]
    },
    {
      "cell_type": "code",
      "metadata": {
        "id": "RgT-00NPpdrl",
        "colab": {
          "base_uri": "https://localhost:8080/"
        },
        "outputId": "363fb6e8-5fd6-4921-8e82-7d6bdbaf00ef"
      },
      "source": [
        "preprocessed_train.shape"
      ],
      "execution_count": null,
      "outputs": [
        {
          "output_type": "execute_result",
          "data": {
            "text/plain": [
              "(12000, 64, 64)"
            ]
          },
          "metadata": {
            "tags": []
          },
          "execution_count": 45
        }
      ]
    },
    {
      "cell_type": "code",
      "metadata": {
        "id": "CbXyjNu1xlTs",
        "colab": {
          "base_uri": "https://localhost:8080/"
        },
        "outputId": "8c045d9e-6683-4154-9d2a-b43d381e263b"
      },
      "source": [
        "X_train_reshaped = preprocessed_train.reshape((*preprocessed_train.shape, 1))\n",
        "\n",
        "X_train_reshaped.shape"
      ],
      "execution_count": null,
      "outputs": [
        {
          "output_type": "execute_result",
          "data": {
            "text/plain": [
              "(12000, 64, 64, 1)"
            ]
          },
          "metadata": {
            "tags": []
          },
          "execution_count": 46
        }
      ]
    },
    {
      "cell_type": "markdown",
      "metadata": {
        "id": "0xNDdvJEoaaI"
      },
      "source": [
        "- ### Split test set to test and validation sets"
      ]
    },
    {
      "cell_type": "code",
      "metadata": {
        "id": "JBcm5BEfk0i0"
      },
      "source": [
        "X_train, X_test, y_train, y_test = train_test_split(X_train_reshaped, train_labels_aug, test_size=0.2, random_state=42, stratify=train_labels_aug)"
      ],
      "execution_count": null,
      "outputs": []
    },
    {
      "cell_type": "code",
      "metadata": {
        "colab": {
          "base_uri": "https://localhost:8080/"
        },
        "id": "O2b7JC4FzEJM",
        "outputId": "781d7b46-9f0b-4c89-a178-1cafbe4244b3"
      },
      "source": [
        "print(f'Train set: {X_train.shape} {y_train.shape}')\n",
        "print(f'Test set: {X_test.shape} {y_test.shape}')"
      ],
      "execution_count": null,
      "outputs": [
        {
          "output_type": "stream",
          "text": [
            "Train set: (9600, 64, 64, 1) (9600,)\n",
            "Test set: (2400, 64, 64, 1) (2400,)\n"
          ],
          "name": "stdout"
        }
      ]
    },
    {
      "cell_type": "markdown",
      "metadata": {
        "id": "RCBlcioHnYwk"
      },
      "source": [
        "- ### OneHotEncoding features"
      ]
    },
    {
      "cell_type": "code",
      "metadata": {
        "colab": {
          "base_uri": "https://localhost:8080/"
        },
        "id": "Mz1wI8C6ncPI",
        "outputId": "6182762f-6e38-44e3-8179-035528857a08"
      },
      "source": [
        "y_train = to_categorical(y_train)\n",
        "y_test = to_categorical(y_test)\n",
        "\n",
        "y_train.shape, y_test.shape"
      ],
      "execution_count": null,
      "outputs": [
        {
          "output_type": "execute_result",
          "data": {
            "text/plain": [
              "((9600, 6), (2400, 6))"
            ]
          },
          "metadata": {
            "tags": []
          },
          "execution_count": 49
        }
      ]
    },
    {
      "cell_type": "markdown",
      "metadata": {
        "id": "We9oroCooxob"
      },
      "source": [
        "## Training"
      ]
    },
    {
      "cell_type": "markdown",
      "metadata": {
        "id": "954ha7kcofQD"
      },
      "source": [
        "- ### Defining models"
      ]
    },
    {
      "cell_type": "code",
      "metadata": {
        "id": "duOYbTT19WVY"
      },
      "source": [
        "INPUT_SHAPE = (IMG_WIDTH, IMG_HEIGHT, 1)"
      ],
      "execution_count": null,
      "outputs": []
    },
    {
      "cell_type": "code",
      "metadata": {
        "id": "Z-RtgHES1L6w"
      },
      "source": [
        "# def create_model(optimizer=Adamax(), lr=0.01, activation='elu'):\n",
        "#   optimizer.learning_rate = lr\n",
        "\n",
        "#   input_tensor = Input(INPUT_SHAPE)\n",
        "#   X = Conv2D(32, (3, 3), padding='same', activation=activation)(input_tensor)\n",
        "#   X = BatchNormalization(axis=-1)(X)\n",
        "#   X = MaxPooling2D((2, 2))(X)\n",
        "\n",
        "#   X = Conv2D(64, (3, 3), padding='same', activation=activation)(X)\n",
        "#   X = BatchNormalization(axis=-1)(X)\n",
        "#   X = Conv2D(64, (3, 3), padding='same', activation=activation)(X)\n",
        "#   X = BatchNormalization(axis=-1)(X)\n",
        "#   X = MaxPooling2D((2, 2))(X)\n",
        "\n",
        "#   X = GlobalMaxPooling2D()(X)\n",
        "\n",
        "#   X = Dense(64, activation=activation, kernel_regularizer=l2(0.01))(X)\n",
        "#   X = Dropout(0.35)(X)\n",
        "\n",
        "#   X = Dense(32, activation=activation, kernel_regularizer=l2(0.01))(X)\n",
        "#   X = Dropout(0.35)(X)\n",
        "\n",
        "#   output = Dense(NUM_CLASSES, activation='softmax')(X)\n",
        "\n",
        "#   model = Model(inputs=input_tensor, outputs=output)\n",
        "#   model.compile(optimizer=optimizer, loss='categorical_crossentropy', metrics='accuracy')\n",
        "#   # print(model.summary())\n",
        "#   return model\n",
        "\n",
        "\n",
        "def create_model_flat(optimizer=Adamax(), lr=0.01, activation='relu'):\n",
        "  optimizer.learning_rate = lr\n",
        "\n",
        "  input_tensor = Input(INPUT_SHAPE)\n",
        "  X = Conv2D(32, (3, 3), padding='same', activation=activation)(input_tensor)\n",
        "  X = BatchNormalization(axis=-1)(X)\n",
        "  X = MaxPooling2D((2, 2))(X)\n",
        "\n",
        "  X = Conv2D(64, (3, 3), padding='same', activation=activation)(X)\n",
        "  X = BatchNormalization(axis=-1)(X)\n",
        "  X = Conv2D(64, (3, 3), padding='same', activation=activation)(X)\n",
        "  X = BatchNormalization(axis=-1)(X)\n",
        "  X = MaxPooling2D((2, 2))(X)\n",
        "\n",
        "  X = Flatten()(X)\n",
        "\n",
        "  X = Dense(64, activation=activation, kernel_regularizer=l2(0.001))(X)\n",
        "  X = Dropout(0.5)(X)\n",
        "\n",
        "  X = Dense(32, activation=activation, kernel_regularizer=l2(0.001))(X)\n",
        "  X = Dropout(0.35)(X)\n",
        "\n",
        "  output = Dense(NUM_CLASSES, activation='softmax')(X)\n",
        "\n",
        "  model = Model(inputs=input_tensor, outputs=output)\n",
        "  model.compile(optimizer=optimizer, loss='categorical_crossentropy', metrics='accuracy')\n",
        "  # print(model.summary())\n",
        "  return model\n",
        "\n",
        "\n",
        "def simple_model_build(activation='relu'):\n",
        "  inputs = Input(INPUT_SHAPE)\n",
        "  x = BatchNormalization()(inputs)\n",
        "\n",
        "  x = Conv2D(16, 3, activation=activation)(x)\n",
        "  x = MaxPooling2D(2)(x)\n",
        "  x = BatchNormalization()(x)\n",
        "\n",
        "  x = Conv2D(32, 3, activation=activation)(x)\n",
        "  x = MaxPooling2D(2)(x)\n",
        "  x = BatchNormalization()(x)\n",
        "\n",
        "  x = Conv2D(64, 3, activation=activation)(x)\n",
        "  x = MaxPooling2D(2)(x)\n",
        "  x = BatchNormalization()(x)\n",
        "\n",
        "  x = GlobalMaxPooling2D()(x)\n",
        "  # x = Dense(32, activation='relu')(x)\n",
        "  # x = Dropout(.4)(x)\n",
        "  x = Dense(64, activation=activation, kernel_regularizer=l2(0.001))(x)\n",
        "  x = Dropout(.5)(x)\n",
        "  x = Dense(32, activation=activation, kernel_regularizer=l2(0.001))(x)  # , kernel_regularizer=l2(0.01)\n",
        "  x = Dropout(.35)(x)\n",
        "  x = Dense(NUM_CLASSES, activation='softmax')(x)\n",
        "\n",
        "  model = Model(inputs=inputs, outputs=x)\n",
        "  model.compile(Adamax(learning_rate=0.01), loss='categorical_crossentropy', metrics='accuracy')\n",
        "  # print(model.summary())\n",
        "\n",
        "  return model"
      ],
      "execution_count": null,
      "outputs": []
    },
    {
      "cell_type": "markdown",
      "metadata": {
        "id": "BXXnOWUCplNP"
      },
      "source": [
        "- ### Training"
      ]
    },
    {
      "cell_type": "code",
      "metadata": {
        "id": "z7KndC79nnZY"
      },
      "source": [
        "models = [\n",
        "          KerasClassifier(create_model_flat, epochs=15, batch_size=32),\n",
        "          KerasClassifier(simple_model_build, epochs=15, batch_size=32)\n",
        "          ]"
      ],
      "execution_count": null,
      "outputs": []
    },
    {
      "cell_type": "markdown",
      "metadata": {
        "id": "V-HiYUzt_NTf"
      },
      "source": [
        "- ### Choosing the best model using cross validation"
      ]
    },
    {
      "cell_type": "code",
      "metadata": {
        "colab": {
          "base_uri": "https://localhost:8080/"
        },
        "id": "zebUIML9sBtq",
        "outputId": "ad4a0fbb-b64b-4cea-e6da-8f20e53723d3"
      },
      "source": [
        "results = []\n",
        "\n",
        "for model in models:\n",
        "  result = cross_val_score(model, X_train, y_train, cv=4)\n",
        "  results.append(result)"
      ],
      "execution_count": null,
      "outputs": [
        {
          "output_type": "stream",
          "text": [
            "Epoch 1/10\n",
            "225/225 [==============================] - 6s 24ms/step - loss: 3.3376 - accuracy: 0.4022\n",
            "Epoch 2/10\n",
            "225/225 [==============================] - 5s 23ms/step - loss: 1.4930 - accuracy: 0.5838\n",
            "Epoch 3/10\n",
            "225/225 [==============================] - 5s 23ms/step - loss: 1.2426 - accuracy: 0.6660\n",
            "Epoch 4/10\n",
            "225/225 [==============================] - 5s 23ms/step - loss: 1.0425 - accuracy: 0.7265\n",
            "Epoch 5/10\n",
            "225/225 [==============================] - 5s 23ms/step - loss: 0.9110 - accuracy: 0.7690\n",
            "Epoch 6/10\n",
            "225/225 [==============================] - 5s 23ms/step - loss: 0.8356 - accuracy: 0.8062\n",
            "Epoch 7/10\n",
            "225/225 [==============================] - 5s 23ms/step - loss: 0.7412 - accuracy: 0.8357\n",
            "Epoch 8/10\n",
            "225/225 [==============================] - 5s 23ms/step - loss: 0.6321 - accuracy: 0.8688\n",
            "Epoch 9/10\n",
            "225/225 [==============================] - 5s 23ms/step - loss: 0.5715 - accuracy: 0.8883\n",
            "Epoch 10/10\n",
            "225/225 [==============================] - 5s 23ms/step - loss: 0.5350 - accuracy: 0.8991\n",
            "75/75 [==============================] - 1s 8ms/step - loss: 0.4741 - accuracy: 0.9267\n",
            "Epoch 1/10\n",
            "225/225 [==============================] - 6s 23ms/step - loss: 2.5619 - accuracy: 0.3399\n",
            "Epoch 2/10\n",
            "225/225 [==============================] - 5s 23ms/step - loss: 1.3990 - accuracy: 0.6087\n",
            "Epoch 3/10\n",
            "225/225 [==============================] - 5s 23ms/step - loss: 1.1487 - accuracy: 0.6900\n",
            "Epoch 4/10\n",
            "225/225 [==============================] - 5s 23ms/step - loss: 0.9489 - accuracy: 0.7625\n",
            "Epoch 5/10\n",
            "225/225 [==============================] - 5s 23ms/step - loss: 0.8325 - accuracy: 0.7985\n",
            "Epoch 6/10\n",
            "225/225 [==============================] - 5s 23ms/step - loss: 0.7326 - accuracy: 0.8339\n",
            "Epoch 7/10\n",
            "225/225 [==============================] - 5s 23ms/step - loss: 0.6288 - accuracy: 0.8703\n",
            "Epoch 8/10\n",
            "225/225 [==============================] - 5s 23ms/step - loss: 0.5872 - accuracy: 0.8881\n",
            "Epoch 9/10\n",
            "225/225 [==============================] - 5s 23ms/step - loss: 0.5328 - accuracy: 0.9060\n",
            "Epoch 10/10\n",
            "225/225 [==============================] - 5s 23ms/step - loss: 0.5089 - accuracy: 0.9130\n",
            "75/75 [==============================] - 1s 8ms/step - loss: 0.4833 - accuracy: 0.9296\n",
            "Epoch 1/10\n",
            "225/225 [==============================] - 6s 23ms/step - loss: 2.5786 - accuracy: 0.3708\n",
            "Epoch 2/10\n",
            "225/225 [==============================] - 5s 23ms/step - loss: 1.3210 - accuracy: 0.6395\n",
            "Epoch 3/10\n",
            "225/225 [==============================] - 5s 23ms/step - loss: 1.0353 - accuracy: 0.7327\n",
            "Epoch 4/10\n",
            "225/225 [==============================] - 5s 23ms/step - loss: 0.8882 - accuracy: 0.7841\n",
            "Epoch 5/10\n",
            "225/225 [==============================] - 5s 23ms/step - loss: 0.7646 - accuracy: 0.8314\n",
            "Epoch 6/10\n",
            "225/225 [==============================] - 5s 23ms/step - loss: 0.6607 - accuracy: 0.8745\n",
            "Epoch 7/10\n",
            "225/225 [==============================] - 5s 23ms/step - loss: 0.6082 - accuracy: 0.8881\n",
            "Epoch 8/10\n",
            "225/225 [==============================] - 5s 23ms/step - loss: 0.5707 - accuracy: 0.9029\n",
            "Epoch 9/10\n",
            "225/225 [==============================] - 5s 23ms/step - loss: 0.5013 - accuracy: 0.9170\n",
            "Epoch 10/10\n",
            "225/225 [==============================] - 5s 23ms/step - loss: 0.4599 - accuracy: 0.9401\n",
            "75/75 [==============================] - 1s 8ms/step - loss: 0.5085 - accuracy: 0.9221\n",
            "Epoch 1/10\n",
            "225/225 [==============================] - 6s 23ms/step - loss: 2.4146 - accuracy: 0.3756\n",
            "Epoch 2/10\n",
            "225/225 [==============================] - 5s 23ms/step - loss: 1.4295 - accuracy: 0.5956\n",
            "Epoch 3/10\n",
            "225/225 [==============================] - 5s 23ms/step - loss: 1.1838 - accuracy: 0.6862\n",
            "Epoch 4/10\n",
            "225/225 [==============================] - 5s 23ms/step - loss: 1.0059 - accuracy: 0.7400\n",
            "Epoch 5/10\n",
            "225/225 [==============================] - 5s 23ms/step - loss: 0.8425 - accuracy: 0.8058\n",
            "Epoch 6/10\n",
            "225/225 [==============================] - 5s 23ms/step - loss: 0.7438 - accuracy: 0.8319\n",
            "Epoch 7/10\n",
            "225/225 [==============================] - 5s 23ms/step - loss: 0.6755 - accuracy: 0.8574\n",
            "Epoch 8/10\n",
            "225/225 [==============================] - 5s 23ms/step - loss: 0.6008 - accuracy: 0.8847\n",
            "Epoch 9/10\n",
            "225/225 [==============================] - 5s 23ms/step - loss: 0.5328 - accuracy: 0.9042\n",
            "Epoch 10/10\n",
            "225/225 [==============================] - 5s 23ms/step - loss: 0.5117 - accuracy: 0.9157\n",
            "75/75 [==============================] - 1s 8ms/step - loss: 0.4374 - accuracy: 0.9438\n",
            "Epoch 1/10\n",
            "225/225 [==============================] - 4s 12ms/step - loss: 2.4898 - accuracy: 0.2544\n",
            "Epoch 2/10\n",
            "225/225 [==============================] - 3s 13ms/step - loss: 1.4897 - accuracy: 0.4593\n",
            "Epoch 3/10\n",
            "225/225 [==============================] - 3s 14ms/step - loss: 1.2175 - accuracy: 0.5826\n",
            "Epoch 4/10\n",
            "225/225 [==============================] - 3s 15ms/step - loss: 1.0753 - accuracy: 0.6384\n",
            "Epoch 5/10\n",
            "225/225 [==============================] - 3s 15ms/step - loss: 0.9444 - accuracy: 0.6935\n",
            "Epoch 6/10\n",
            "225/225 [==============================] - 4s 16ms/step - loss: 0.8483 - accuracy: 0.7306\n",
            "Epoch 7/10\n",
            "225/225 [==============================] - 4s 16ms/step - loss: 0.7508 - accuracy: 0.7637\n",
            "Epoch 8/10\n",
            "225/225 [==============================] - 4s 16ms/step - loss: 0.6764 - accuracy: 0.7897\n",
            "Epoch 9/10\n",
            "225/225 [==============================] - 4s 16ms/step - loss: 0.6282 - accuracy: 0.8082\n",
            "Epoch 10/10\n",
            "225/225 [==============================] - 4s 16ms/step - loss: 0.5774 - accuracy: 0.8248\n",
            "75/75 [==============================] - 1s 5ms/step - loss: 0.5439 - accuracy: 0.8404\n",
            "Epoch 1/10\n",
            "225/225 [==============================] - 5s 16ms/step - loss: 2.4371 - accuracy: 0.2402\n",
            "Epoch 2/10\n",
            "225/225 [==============================] - 4s 16ms/step - loss: 1.4669 - accuracy: 0.4836\n",
            "Epoch 3/10\n",
            "225/225 [==============================] - 4s 16ms/step - loss: 1.2400 - accuracy: 0.5849\n",
            "Epoch 4/10\n",
            "225/225 [==============================] - 4s 16ms/step - loss: 1.0798 - accuracy: 0.6338\n",
            "Epoch 5/10\n",
            "225/225 [==============================] - 4s 16ms/step - loss: 0.9707 - accuracy: 0.6791\n",
            "Epoch 6/10\n",
            "225/225 [==============================] - 4s 16ms/step - loss: 0.8958 - accuracy: 0.7094\n",
            "Epoch 7/10\n",
            "225/225 [==============================] - 4s 16ms/step - loss: 0.8072 - accuracy: 0.7456\n",
            "Epoch 8/10\n",
            "225/225 [==============================] - 4s 16ms/step - loss: 0.7277 - accuracy: 0.7723\n",
            "Epoch 9/10\n",
            "225/225 [==============================] - 4s 16ms/step - loss: 0.6662 - accuracy: 0.7843\n",
            "Epoch 10/10\n",
            "225/225 [==============================] - 4s 16ms/step - loss: 0.6195 - accuracy: 0.8099\n",
            "75/75 [==============================] - 1s 5ms/step - loss: 0.5290 - accuracy: 0.8458\n",
            "Epoch 1/10\n",
            "225/225 [==============================] - 5s 16ms/step - loss: 2.3501 - accuracy: 0.2594\n",
            "Epoch 2/10\n",
            "225/225 [==============================] - 4s 16ms/step - loss: 1.4316 - accuracy: 0.4872\n",
            "Epoch 3/10\n",
            "225/225 [==============================] - 4s 16ms/step - loss: 1.2051 - accuracy: 0.5797\n",
            "Epoch 4/10\n",
            "225/225 [==============================] - 4s 16ms/step - loss: 1.0488 - accuracy: 0.6516\n",
            "Epoch 5/10\n",
            "225/225 [==============================] - 4s 16ms/step - loss: 0.9349 - accuracy: 0.6964\n",
            "Epoch 6/10\n",
            "225/225 [==============================] - 4s 16ms/step - loss: 0.8341 - accuracy: 0.7400\n",
            "Epoch 7/10\n",
            "225/225 [==============================] - 4s 16ms/step - loss: 0.7407 - accuracy: 0.7714\n",
            "Epoch 8/10\n",
            "225/225 [==============================] - 4s 16ms/step - loss: 0.6769 - accuracy: 0.7958\n",
            "Epoch 9/10\n",
            "225/225 [==============================] - 4s 16ms/step - loss: 0.6333 - accuracy: 0.8087\n",
            "Epoch 10/10\n",
            "225/225 [==============================] - 4s 16ms/step - loss: 0.5561 - accuracy: 0.8469\n",
            "75/75 [==============================] - 1s 5ms/step - loss: 0.5579 - accuracy: 0.8363\n",
            "Epoch 1/10\n",
            "225/225 [==============================] - 5s 16ms/step - loss: 2.5272 - accuracy: 0.2213\n",
            "Epoch 2/10\n",
            "225/225 [==============================] - 4s 16ms/step - loss: 1.4867 - accuracy: 0.4634\n",
            "Epoch 3/10\n",
            "225/225 [==============================] - 4s 16ms/step - loss: 1.2291 - accuracy: 0.5652\n",
            "Epoch 4/10\n",
            "225/225 [==============================] - 4s 16ms/step - loss: 1.0931 - accuracy: 0.6165\n",
            "Epoch 5/10\n",
            "225/225 [==============================] - 4s 16ms/step - loss: 0.9682 - accuracy: 0.6755\n",
            "Epoch 6/10\n",
            "225/225 [==============================] - 4s 16ms/step - loss: 0.8789 - accuracy: 0.7134\n",
            "Epoch 7/10\n",
            "225/225 [==============================] - 4s 16ms/step - loss: 0.7850 - accuracy: 0.7463\n",
            "Epoch 8/10\n",
            "225/225 [==============================] - 4s 16ms/step - loss: 0.7250 - accuracy: 0.7728\n",
            "Epoch 9/10\n",
            "225/225 [==============================] - 4s 16ms/step - loss: 0.6630 - accuracy: 0.8028\n",
            "Epoch 10/10\n",
            "225/225 [==============================] - 4s 16ms/step - loss: 0.6047 - accuracy: 0.8193\n",
            "75/75 [==============================] - 1s 5ms/step - loss: 0.5371 - accuracy: 0.8400\n"
          ],
          "name": "stdout"
        }
      ]
    },
    {
      "cell_type": "code",
      "metadata": {
        "colab": {
          "base_uri": "https://localhost:8080/"
        },
        "id": "yO2Wj_dntTg9",
        "outputId": "e577f2ea-8d0b-40df-8f27-a8748ef79305"
      },
      "source": [
        "for result in results:\n",
        "  print(result)"
      ],
      "execution_count": null,
      "outputs": [
        {
          "output_type": "stream",
          "text": [
            "[0.92666668 0.92958331 0.92208332 0.94375002]\n",
            "[0.84041667 0.84583336 0.83625001 0.83999997]\n"
          ],
          "name": "stdout"
        }
      ]
    },
    {
      "cell_type": "code",
      "metadata": {
        "colab": {
          "base_uri": "https://localhost:8080/"
        },
        "id": "TaVl-xRWuGmv",
        "outputId": "0926e3dd-b89a-4c09-f1e0-ed11dae53b8a"
      },
      "source": [
        "for result in results:\n",
        "  print(result.mean())"
      ],
      "execution_count": null,
      "outputs": [
        {
          "output_type": "stream",
          "text": [
            "0.9305208325386047\n",
            "0.8406250029802322\n"
          ],
          "name": "stdout"
        }
      ]
    },
    {
      "cell_type": "markdown",
      "metadata": {
        "id": "7hErKJtasDd8"
      },
      "source": [
        "- ### Final training"
      ]
    },
    {
      "cell_type": "code",
      "metadata": {
        "id": "ZVlB51zEzWFd"
      },
      "source": [
        "model = simple_model_build()"
      ],
      "execution_count": null,
      "outputs": []
    },
    {
      "cell_type": "code",
      "metadata": {
        "id": "mvx6qWebdR8l",
        "colab": {
          "base_uri": "https://localhost:8080/"
        },
        "outputId": "80534b00-a64b-48a8-c5c3-f714a49955f9"
      },
      "source": [
        "history = model.fit(X_train, y_train, epochs=10, validation_split=0.1, batch_size=32)  #, validation_data=(X_val, y_val)"
      ],
      "execution_count": null,
      "outputs": [
        {
          "output_type": "stream",
          "text": [
            "Epoch 1/10\n",
            "270/270 [==============================] - 6s 17ms/step - loss: 1.9003 - accuracy: 0.3408 - val_loss: 1.0546 - val_accuracy: 0.6333\n",
            "Epoch 2/10\n",
            "270/270 [==============================] - 4s 16ms/step - loss: 1.0650 - accuracy: 0.6106 - val_loss: 0.6923 - val_accuracy: 0.7823\n",
            "Epoch 3/10\n",
            "270/270 [==============================] - 4s 16ms/step - loss: 0.7861 - accuracy: 0.7461 - val_loss: 0.5180 - val_accuracy: 0.8406\n",
            "Epoch 4/10\n",
            "270/270 [==============================] - 4s 16ms/step - loss: 0.5677 - accuracy: 0.8348 - val_loss: 0.4636 - val_accuracy: 0.8594\n",
            "Epoch 5/10\n",
            "270/270 [==============================] - 4s 16ms/step - loss: 0.4543 - accuracy: 0.8808 - val_loss: 0.3451 - val_accuracy: 0.8948\n",
            "Epoch 6/10\n",
            "270/270 [==============================] - 4s 16ms/step - loss: 0.3979 - accuracy: 0.8964 - val_loss: 0.3576 - val_accuracy: 0.8979\n",
            "Epoch 7/10\n",
            "270/270 [==============================] - 4s 16ms/step - loss: 0.3185 - accuracy: 0.9200 - val_loss: 0.2822 - val_accuracy: 0.9135\n",
            "Epoch 8/10\n",
            "270/270 [==============================] - 4s 16ms/step - loss: 0.2898 - accuracy: 0.9256 - val_loss: 0.3730 - val_accuracy: 0.8958\n",
            "Epoch 9/10\n",
            "270/270 [==============================] - 4s 16ms/step - loss: 0.2619 - accuracy: 0.9368 - val_loss: 0.2859 - val_accuracy: 0.9250\n",
            "Epoch 10/10\n",
            "270/270 [==============================] - 4s 16ms/step - loss: 0.2178 - accuracy: 0.9524 - val_loss: 0.3220 - val_accuracy: 0.9135\n"
          ],
          "name": "stdout"
        }
      ]
    },
    {
      "cell_type": "code",
      "metadata": {
        "colab": {
          "base_uri": "https://localhost:8080/",
          "height": 282
        },
        "id": "Kk5ZzajG-A1N",
        "outputId": "c178dcd1-e1a0-480a-eb75-62ce54419ba1"
      },
      "source": [
        "plt.plot(history.history['accuracy'], label='training')\n",
        "plt.plot(history.history['val_accuracy'], label='validation')"
      ],
      "execution_count": null,
      "outputs": [
        {
          "output_type": "execute_result",
          "data": {
            "text/plain": [
              "[<matplotlib.lines.Line2D at 0x7fe679fc4b10>]"
            ]
          },
          "metadata": {
            "tags": []
          },
          "execution_count": 91
        },
        {
          "output_type": "display_data",
          "data": {
            "image/png": "[encoded data removed]",
            "text/plain": [
              "<Figure size 432x288 with 1 Axes>"
            ]
          },
          "metadata": {
            "tags": [],
            "needs_background": "light"
          }
        }
      ]
    },
    {
      "cell_type": "code",
      "metadata": {
        "colab": {
          "base_uri": "https://localhost:8080/",
          "height": 286
        },
        "id": "8nRGN--G-kQQ",
        "outputId": "5e43eb90-c968-4dd6-9147-56db0ee96e78"
      },
      "source": [
        "plt.plot(history.history['loss'], label='training')\n",
        "plt.plot(history.history['val_loss'], label='validation')"
      ],
      "execution_count": null,
      "outputs": [
        {
          "output_type": "execute_result",
          "data": {
            "text/plain": [
              "[<matplotlib.lines.Line2D at 0x7fe72d26a850>]"
            ]
          },
          "metadata": {
            "tags": []
          },
          "execution_count": 92
        },
        {
          "output_type": "display_data",
          "data": {
            "image/png": "[encoded data removed]",
            "text/plain": [
              "<Figure size 432x288 with 1 Axes>"
            ]
          },
          "metadata": {
            "tags": [],
            "needs_background": "light"
          }
        }
      ]
    },
    {
      "cell_type": "code",
      "metadata": {
        "colab": {
          "base_uri": "https://localhost:8080/",
          "height": 285
        },
        "id": "Xm9eY9aV0cIi",
        "outputId": "81f12947-4bdc-471a-d8c6-a80d8cd01c79"
      },
      "source": [
        "plt.imshow(X_test[1400].reshape(64, 64))"
      ],
      "execution_count": null,
      "outputs": [
        {
          "output_type": "execute_result",
          "data": {
            "text/plain": [
              "<matplotlib.image.AxesImage at 0x7fe678f8ec90>"
            ]
          },
          "metadata": {
            "tags": []
          },
          "execution_count": 93
        },
        {
          "output_type": "display_data",
          "data": {
            "image/png": "[encoded data removed]",
            "text/plain": [
              "<Figure size 432x288 with 1 Axes>"
            ]
          },
          "metadata": {
            "tags": [],
            "needs_background": "light"
          }
        }
      ]
    },
    {
      "cell_type": "code",
      "metadata": {
        "colab": {
          "base_uri": "https://localhost:8080/"
        },
        "id": "bbQpeTgI-m88",
        "outputId": "252205c0-27fe-42f5-ea6f-bef9a1ea7df2"
      },
      "source": [
        "np.argmax(model.predict(X_test[1400].reshape(1, 64, 64, 1)))"
      ],
      "execution_count": null,
      "outputs": [
        {
          "output_type": "execute_result",
          "data": {
            "text/plain": [
              "4"
            ]
          },
          "metadata": {
            "tags": []
          },
          "execution_count": 94
        }
      ]
    },
    {
      "cell_type": "code",
      "metadata": {
        "colab": {
          "base_uri": "https://localhost:8080/"
        },
        "id": "Vz6zvLfl5eB1",
        "outputId": "efe1657e-b3d5-4c8c-939f-cd3dc8b90f1b"
      },
      "source": [
        "model.evaluate(X_test, y_test)"
      ],
      "execution_count": null,
      "outputs": [
        {
          "output_type": "stream",
          "text": [
            "75/75 [==============================] - 0s 5ms/step - loss: 0.3246 - accuracy: 0.9183\n"
          ],
          "name": "stdout"
        },
        {
          "output_type": "execute_result",
          "data": {
            "text/plain": [
              "[0.324623167514801, 0.9183333516120911]"
            ]
          },
          "metadata": {
            "tags": []
          },
          "execution_count": 95
        }
      ]
    },
    {
      "cell_type": "code",
      "metadata": {
        "colab": {
          "base_uri": "https://localhost:8080/"
        },
        "id": "Iy_GKMCY5mDL",
        "outputId": "4197375a-002c-4031-8018-c7f690d57db6"
      },
      "source": [
        "model.evaluate(X_train, y_train)"
      ],
      "execution_count": null,
      "outputs": [
        {
          "output_type": "stream",
          "text": [
            "300/300 [==============================] - 1s 5ms/step - loss: 0.2004 - accuracy: 0.9541\n"
          ],
          "name": "stdout"
        },
        {
          "output_type": "execute_result",
          "data": {
            "text/plain": [
              "[0.20036980509757996, 0.9540625214576721]"
            ]
          },
          "metadata": {
            "tags": []
          },
          "execution_count": 96
        }
      ]
    },
    {
      "cell_type": "code",
      "metadata": {
        "id": "bZAHeHAr0rFw"
      },
      "source": [
        "model.save('best_model_92.h5')"
      ],
      "execution_count": null,
      "outputs": []
    },
    {
      "cell_type": "code",
      "metadata": {
        "id": "1S3mUh_V4Z5K"
      },
      "source": [
        "# model = keras.models.load_model('best_model.h5')"
      ],
      "execution_count": null,
      "outputs": []
    },
    {
      "cell_type": "code",
      "metadata": {
        "colab": {
          "base_uri": "https://localhost:8080/"
        },
        "id": "vPHzFWQJ4x4k",
        "outputId": "c55a5470-b270-4a1d-8355-776eb9ec28f7"
      },
      "source": [
        "LABELS_DICT"
      ],
      "execution_count": null,
      "outputs": [
        {
          "output_type": "execute_result",
          "data": {
            "text/plain": [
              "{'30_limit': 0,\n",
              " '50_limit': 1,\n",
              " '70_limit': 2,\n",
              " 'STOP': 4,\n",
              " 'no_entrance': 3,\n",
              " 'other': 5}"
            ]
          },
          "metadata": {
            "tags": []
          },
          "execution_count": 189
        }
      ]
    },
    {
      "cell_type": "code",
      "metadata": {
        "id": "PljdbVaX5cA5",
        "colab": {
          "base_uri": "https://localhost:8080/"
        },
        "outputId": "25af4dc4-9fbc-46ee-d530-bfac93a20633"
      },
      "source": [
        "test_images_path = 'test_images/'\n",
        "\n",
        "for image in os.listdir(test_images_path):\n",
        "  img = cv2.imread(test_images_path + image)\n",
        "  preprocessed = img_preprocessor.preprocess_image(img, IMG_WIDTH, IMG_HEIGHT)\n",
        "  ready_img = preprocessed.reshape(1, 64, 64, 1)\n",
        "  # plt.imshow(preprocessed)\n",
        "  prediction = np.argmax(model.predict(ready_img))\n",
        "  print('real image:', image)\n",
        "  print('predicted:', prediction)\n",
        "  print('\\n')"
      ],
      "execution_count": null,
      "outputs": [
        {
          "output_type": "stream",
          "text": [
            "real image: stop.jpg\n",
            "predicted: 4\n",
            "\n",
            "\n",
            "real image: no_entry.jpg\n",
            "predicted: 3\n",
            "\n",
            "\n",
            "real image: other.jpg\n",
            "predicted: 3\n",
            "\n",
            "\n",
            "real image: 70.jpg\n",
            "predicted: 2\n",
            "\n",
            "\n",
            "real image: 50.jpg\n",
            "predicted: 1\n",
            "\n",
            "\n",
            "real image: 30.jpg\n",
            "predicted: 0\n",
            "\n",
            "\n"
          ],
          "name": "stdout"
        }
      ]
    },
    {
      "cell_type": "code",
      "metadata": {
        "id": "EC7Onpeu2jXu"
      },
      "source": [
        "y_pred = model.predict(X_test)"
      ],
      "execution_count": null,
      "outputs": []
    },
    {
      "cell_type": "code",
      "metadata": {
        "colab": {
          "base_uri": "https://localhost:8080/"
        },
        "id": "xNY1Vmfw_aLA",
        "outputId": "a60e51d5-2426-4083-f5b2-da0f79e2bd4f"
      },
      "source": [
        "cm = confusion_matrix([np.argmax(pred) for pred in y_test], [np.argmax(pred) for pred in y_pred])\n",
        "cm"
      ],
      "execution_count": null,
      "outputs": [
        {
          "output_type": "execute_result",
          "data": {
            "text/plain": [
              "array([[347,  33,   0,   6,   6,   8],\n",
              "       [  2, 376,  14,   3,   1,   4],\n",
              "       [  5,  28, 352,   2,   1,  12],\n",
              "       [  0,   0,   0, 386,   2,  12],\n",
              "       [  1,   0,   0,   9, 388,   2],\n",
              "       [  1,   4,   0,  32,   8, 355]])"
            ]
          },
          "metadata": {
            "tags": []
          },
          "execution_count": 106
        }
      ]
    },
    {
      "cell_type": "code",
      "metadata": {
        "colab": {
          "base_uri": "https://localhost:8080/"
        },
        "id": "EgvcOola5f-N",
        "outputId": "3060b6a6-fe84-438c-ac04-21abfd4a6c0d"
      },
      "source": [
        "confusion_matrix([np.argmax(pred) for pred in y_test], [np.argmax(pred) for pred in y_pred])"
      ],
      "execution_count": null,
      "outputs": [
        {
          "output_type": "execute_result",
          "data": {
            "text/plain": [
              "array([[273,   9,  12,   2,   0,   4],\n",
              "       [  2, 287,   7,   1,   0,   3],\n",
              "       [  1,   3, 290,   0,   0,   6],\n",
              "       [  0,   0,   0, 292,   0,   8],\n",
              "       [  0,   0,   0,   3, 292,   5],\n",
              "       [  0,   2,   3,  11,   0, 284]])"
            ]
          },
          "metadata": {
            "tags": []
          },
          "execution_count": 198
        }
      ]
    },
    {
      "cell_type": "code",
      "metadata": {
        "id": "KVkuS5He_y69"
      },
      "source": [
        "import seaborn as sns"
      ],
      "execution_count": null,
      "outputs": []
    },
    {
      "cell_type": "code",
      "metadata": {
        "colab": {
          "base_uri": "https://localhost:8080/",
          "height": 282
        },
        "id": "HrDX5Aid_wQx",
        "outputId": "ccb4e591-ec72-42aa-b594-bee583eb3ff6"
      },
      "source": [
        "sns.heatmap(cm)"
      ],
      "execution_count": null,
      "outputs": [
        {
          "output_type": "execute_result",
          "data": {
            "text/plain": [
              "<matplotlib.axes._subplots.AxesSubplot at 0x7fe679a5b710>"
            ]
          },
          "metadata": {
            "tags": []
          },
          "execution_count": 107
        },
        {
          "output_type": "display_data",
          "data": {
            "image/png": "[encoded data removed]",
            "text/plain": [
              "<Figure size 432x288 with 2 Axes>"
            ]
          },
          "metadata": {
            "tags": [],
            "needs_background": "light"
          }
        }
      ]
    },
    {
      "cell_type": "code",
      "metadata": {
        "id": "AC9SmU295lmm"
      },
      "source": [
        ""
      ],
      "execution_count": null,
      "outputs": []
    }
  ]
}